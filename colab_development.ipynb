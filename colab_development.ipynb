{
  "cells": [
    {
      "cell_type": "markdown",
      "metadata": {},
      "source": [
        "# 🎭 EchoMimic v3 Cloud Development\n",
        "\n",
        "This notebook sets up EchoMimic v3 for development on Google Colab or other cloud platforms.\n",
        "\n",
        "**Requirements:**\n",
        "- GPU runtime (T4, V100, or A100)\n",
        "- At least 12GB VRAM recommended"
      ]
    },
    {
      "cell_type": "code",
      "execution_count": null,
      "metadata": {},
      "outputs": [],
      "source": [
        "# Check GPU availability\n",
        "!nvidia-smi\n",
        "import torch\n",
        "print(f\"CUDA available: {torch.cuda.is_available()}\")\n",
        "if torch.cuda.is_available():\n",
        "    print(f\"GPU: {torch.cuda.get_device_name()}\")\n",
        "    print(f\"Memory: {torch.cuda.get_device_properties(0).total_memory / 1024**3:.1f}GB\")"
      ]
    },
    {
      "cell_type": "code",
      "execution_count": null,
      "metadata": {},
      "outputs": [],
      "source": [
        "# Clone your repository\n",
        "!git clone https://github.com/yourusername/FlashbackAvatars.git\n",
        "%cd FlashbackAvatars"
      ]
    },
    {
      "cell_type": "code",
      "execution_count": null,
      "metadata": {},
      "outputs": [],
      "source": [
        "# Install dependencies\n",
        "!pip install torch torchvision torchaudio --index-url https://download.pytorch.org/whl/cu121\n",
        "!pip install omegaconf einops safetensors timm tomesd torchdiffeq torchsde decord scikit-image opencv-python SentencePiece albumentations imageio[ffmpeg] tensorboard beautifulsoup4 ftfy func_timeout onnxruntime moviepy==2.2.1 retina-face==0.0.17 librosa fastapi uvicorn"
      ]
    },
    {
      "cell_type": "code",
      "execution_count": null,
      "metadata": {},
      "outputs": [],
      "source": [
        "# Set up environment\n",
        "import os\n",
        "os.environ[\"PYTORCH_CUDA_ALLOC_CONF\"] = \"expandable_segments:True\"\n",
        "\n",
        "# Test EchoMimic engine import\n",
        "%cd services/renderer\n",
        "from echomimic_engine import EchoMimicEngine\n",
        "print(\"✅ EchoMimic engine imported successfully!\")"
      ]
    },
    {
      "cell_type": "code",
      "execution_count": null,
      "metadata": {},
      "outputs": [],
      "source": [
        "# Initialize engine (this will take a few minutes)\n",
        "MODEL_DIR = \"models/pretrained/Wan2.1-Fun-V1.1-1.3B-InP\"\n",
        "WAV2VEC_DIR = \"models/pretrained/wav2vec2-base-960h\"\n",
        "\n",
        "print(\"🔄 Initializing EchoMimic engine...\")\n",
        "engine = EchoMimicEngine(model_dir=MODEL_DIR, wav2vec_dir=WAV2VEC_DIR)\n",
        "print(\"✅ Engine initialized successfully!\")"
      ]
    },
    {
      "cell_type": "code",
      "execution_count": null,
      "metadata": {},
      "outputs": [],
      "source": [
        "# Start development server in background\n",
        "import subprocess\n",
        "import time\n",
        "\n",
        "# Start server\n",
        "server_process = subprocess.Popen(\n",
        "    [\"uvicorn\", \"server:app\", \"--host\", \"0.0.0.0\", \"--port\", \"9000\"],\n",
        "    stdout=subprocess.PIPE,\n",
        "    stderr=subprocess.PIPE\n",
        ")\n",
        "\n",
        "time.sleep(5)  # Wait for server to start\n",
        "print(\"🚀 Server started on port 9000\")\n",
        "print(\"📱 Use Colab's port forwarding or ngrok to access externally\")"
      ]
    },
    {
      "cell_type": "code",
      "execution_count": null,
      "metadata": {},
      "outputs": [],
      "source": [
        "# Optional: Set up ngrok for external access\n",
        "!pip install pyngrok\n",
        "from pyngrok import ngrok\n",
        "\n",
        "# Create tunnel\n",
        "public_url = ngrok.connect(9000)\n",
        "print(f\"🌐 Public URL: {public_url}\")\n",
        "print(f\"📋 Health check: {public_url}/health\")"
      ]
    },
    {
      "cell_type": "code",
      "execution_count": null,
      "metadata": {},
      "outputs": [],
      "source": [
        "# Test the server\n",
        "import requests\n",
        "import json\n",
        "\n",
        "# Test health endpoint\n",
        "response = requests.get(\"http://localhost:9000/health\")\n",
        "print(f\"Health check: {response.json()}\")\n",
        "\n",
        "# You can now develop and test your avatar system!"
      ]
    }
  ],
  "metadata": {
    "kernelspec": {
      "display_name": "Python 3",
      "language": "python",
      "name": "python3"
    },
    "language_info": {
      "name": "python",
      "version": "3.10.0"
    }
  },
  "nbformat": 4,
  "nbformat_minor": 4
}
